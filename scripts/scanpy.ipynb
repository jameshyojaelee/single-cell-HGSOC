{
 "cells": [
  {
   "cell_type": "markdown",
   "metadata": {},
   "source": [
    "# Single-cell RNA-seq Analysis of HGSOC Samples\n",
    "\n",
    "This notebook performs single-cell RNA sequencing analysis on High-Grade Serous Ovarian Cancer (HGSOC) samples using the Scanpy package.\n",
    "The analysis includes:\n",
    "- Data loading and QC\n",
    "- Preprocessing and normalization\n",
    "- Dimensionality reduction\n",
    "- Clustering\n",
    "- Cell type marker analysis\n",
    "- Sample integration"
   ]
  },
  {
   "cell_type": "markdown",
   "metadata": {},
   "source": [
    "## Setup and Imports"
   ]
  },
  {
   "cell_type": "code",
   "execution_count": 1,
   "metadata": {},
   "outputs": [
    {
     "ename": "ImportError",
     "evalue": "Matplotlib requires numpy>=1.23; you have 1.22.3",
     "output_type": "error",
     "traceback": [
      "\u001b[0;31m---------------------------------------------------------------------------\u001b[0m",
      "\u001b[0;31mImportError\u001b[0m                               Traceback (most recent call last)",
      "Cell \u001b[0;32mIn[1], line 4\u001b[0m\n\u001b[1;32m      2\u001b[0m \u001b[38;5;28;01mimport\u001b[39;00m\u001b[38;5;250m \u001b[39m\u001b[38;5;21;01mpandas\u001b[39;00m\u001b[38;5;250m \u001b[39m\u001b[38;5;28;01mas\u001b[39;00m\u001b[38;5;250m \u001b[39m\u001b[38;5;21;01mpd\u001b[39;00m\n\u001b[1;32m      3\u001b[0m \u001b[38;5;28;01mimport\u001b[39;00m\u001b[38;5;250m \u001b[39m\u001b[38;5;21;01mnumpy\u001b[39;00m\u001b[38;5;250m \u001b[39m\u001b[38;5;28;01mas\u001b[39;00m\u001b[38;5;250m \u001b[39m\u001b[38;5;21;01mnp\u001b[39;00m\n\u001b[0;32m----> 4\u001b[0m \u001b[38;5;28;01mimport\u001b[39;00m\u001b[38;5;250m \u001b[39m\u001b[38;5;21;01mscanpy\u001b[39;00m\u001b[38;5;250m \u001b[39m\u001b[38;5;28;01mas\u001b[39;00m\u001b[38;5;250m \u001b[39m\u001b[38;5;21;01msc\u001b[39;00m\n\u001b[1;32m      5\u001b[0m \u001b[38;5;28;01mimport\u001b[39;00m\u001b[38;5;250m \u001b[39m\u001b[38;5;21;01mmatplotlib\u001b[39;00m\u001b[38;5;21;01m.\u001b[39;00m\u001b[38;5;21;01mpyplot\u001b[39;00m\u001b[38;5;250m \u001b[39m\u001b[38;5;28;01mas\u001b[39;00m\u001b[38;5;250m \u001b[39m\u001b[38;5;21;01mplt\u001b[39;00m\n\u001b[1;32m      6\u001b[0m \u001b[38;5;28;01mfrom\u001b[39;00m\u001b[38;5;250m \u001b[39m\u001b[38;5;21;01mcollections\u001b[39;00m\u001b[38;5;250m \u001b[39m\u001b[38;5;28;01mimport\u001b[39;00m defaultdict\n",
      "File \u001b[0;32m~/HGSOC/scripts/scanpy.py:7\u001b[0m\n\u001b[1;32m      5\u001b[0m \u001b[38;5;28;01mimport\u001b[39;00m\u001b[38;5;250m \u001b[39m\u001b[38;5;21;01mnumpy\u001b[39;00m\u001b[38;5;250m \u001b[39m\u001b[38;5;28;01mas\u001b[39;00m\u001b[38;5;250m \u001b[39m\u001b[38;5;21;01mnp\u001b[39;00m\n\u001b[1;32m      6\u001b[0m \u001b[38;5;28;01mimport\u001b[39;00m\u001b[38;5;250m \u001b[39m\u001b[38;5;21;01mscanpy\u001b[39;00m\u001b[38;5;250m \u001b[39m\u001b[38;5;28;01mas\u001b[39;00m\u001b[38;5;250m \u001b[39m\u001b[38;5;21;01msc\u001b[39;00m\n\u001b[0;32m----> 7\u001b[0m \u001b[38;5;28;01mimport\u001b[39;00m\u001b[38;5;250m \u001b[39m\u001b[38;5;21;01mmatplotlib\u001b[39;00m\u001b[38;5;21;01m.\u001b[39;00m\u001b[38;5;21;01mpyplot\u001b[39;00m\u001b[38;5;250m \u001b[39m\u001b[38;5;28;01mas\u001b[39;00m\u001b[38;5;250m \u001b[39m\u001b[38;5;21;01mplt\u001b[39;00m\n\u001b[1;32m      8\u001b[0m \u001b[38;5;28;01mfrom\u001b[39;00m\u001b[38;5;250m \u001b[39m\u001b[38;5;21;01mcollections\u001b[39;00m\u001b[38;5;250m \u001b[39m\u001b[38;5;28;01mimport\u001b[39;00m defaultdict\n\u001b[1;32m     10\u001b[0m \u001b[38;5;66;03m# Set random seed for reproducibility\u001b[39;00m\n",
      "File \u001b[0;32m~/.local/lib/python3.10/site-packages/matplotlib/__init__.py:264\u001b[0m\n\u001b[1;32m    259\u001b[0m         \u001b[38;5;28;01mif\u001b[39;00m parse_version(module\u001b[38;5;241m.\u001b[39m__version__) \u001b[38;5;241m<\u001b[39m parse_version(minver):\n\u001b[1;32m    260\u001b[0m             \u001b[38;5;28;01mraise\u001b[39;00m \u001b[38;5;167;01mImportError\u001b[39;00m(\u001b[38;5;124mf\u001b[39m\u001b[38;5;124m\"\u001b[39m\u001b[38;5;124mMatplotlib requires \u001b[39m\u001b[38;5;132;01m{\u001b[39;00mmodname\u001b[38;5;132;01m}\u001b[39;00m\u001b[38;5;124m>=\u001b[39m\u001b[38;5;132;01m{\u001b[39;00mminver\u001b[38;5;132;01m}\u001b[39;00m\u001b[38;5;124m; \u001b[39m\u001b[38;5;124m\"\u001b[39m\n\u001b[1;32m    261\u001b[0m                               \u001b[38;5;124mf\u001b[39m\u001b[38;5;124m\"\u001b[39m\u001b[38;5;124myou have \u001b[39m\u001b[38;5;132;01m{\u001b[39;00mmodule\u001b[38;5;241m.\u001b[39m__version__\u001b[38;5;132;01m}\u001b[39;00m\u001b[38;5;124m\"\u001b[39m)\n\u001b[0;32m--> 264\u001b[0m \u001b[43m_check_versions\u001b[49m\u001b[43m(\u001b[49m\u001b[43m)\u001b[49m\n\u001b[1;32m    267\u001b[0m \u001b[38;5;66;03m# The decorator ensures this always returns the same handler (and it is only\u001b[39;00m\n\u001b[1;32m    268\u001b[0m \u001b[38;5;66;03m# attached once).\u001b[39;00m\n\u001b[1;32m    269\u001b[0m \u001b[38;5;129m@functools\u001b[39m\u001b[38;5;241m.\u001b[39mcache\n\u001b[1;32m    270\u001b[0m \u001b[38;5;28;01mdef\u001b[39;00m\u001b[38;5;250m \u001b[39m\u001b[38;5;21m_ensure_handler\u001b[39m():\n",
      "File \u001b[0;32m~/.local/lib/python3.10/site-packages/matplotlib/__init__.py:260\u001b[0m, in \u001b[0;36m_check_versions\u001b[0;34m()\u001b[0m\n\u001b[1;32m    258\u001b[0m module \u001b[38;5;241m=\u001b[39m importlib\u001b[38;5;241m.\u001b[39mimport_module(modname)\n\u001b[1;32m    259\u001b[0m \u001b[38;5;28;01mif\u001b[39;00m parse_version(module\u001b[38;5;241m.\u001b[39m__version__) \u001b[38;5;241m<\u001b[39m parse_version(minver):\n\u001b[0;32m--> 260\u001b[0m     \u001b[38;5;28;01mraise\u001b[39;00m \u001b[38;5;167;01mImportError\u001b[39;00m(\u001b[38;5;124mf\u001b[39m\u001b[38;5;124m\"\u001b[39m\u001b[38;5;124mMatplotlib requires \u001b[39m\u001b[38;5;132;01m{\u001b[39;00mmodname\u001b[38;5;132;01m}\u001b[39;00m\u001b[38;5;124m>=\u001b[39m\u001b[38;5;132;01m{\u001b[39;00mminver\u001b[38;5;132;01m}\u001b[39;00m\u001b[38;5;124m; \u001b[39m\u001b[38;5;124m\"\u001b[39m\n\u001b[1;32m    261\u001b[0m                       \u001b[38;5;124mf\u001b[39m\u001b[38;5;124m\"\u001b[39m\u001b[38;5;124myou have \u001b[39m\u001b[38;5;132;01m{\u001b[39;00mmodule\u001b[38;5;241m.\u001b[39m__version__\u001b[38;5;132;01m}\u001b[39;00m\u001b[38;5;124m\"\u001b[39m)\n",
      "\u001b[0;31mImportError\u001b[0m: Matplotlib requires numpy>=1.23; you have 1.22.3"
     ]
    }
   ],
   "source": [
    "import os\n",
    "import pandas as pd\n",
    "import numpy as np\n",
    "import scanpy as sc\n",
    "import matplotlib.pyplot as plt\n",
    "from collections import defaultdict\n",
    "\n",
    "# Set random seed for reproducibility\n",
    "np.random.seed(42)\n",
    "\n",
    "# Set scanpy settings\n",
    "sc.settings.verbosity = 3\n",
    "sc.settings.set_figure_params(dpi=100, figsize=(8, 8))"
   ]
  },
  {
   "cell_type": "markdown",
   "metadata": {},
   "source": [
    "## Define Paths and Load Metadata"
   ]
  },
  {
   "cell_type": "code",
   "execution_count": null,
   "metadata": {},
   "outputs": [],
   "source": [
    "# Define paths\n",
    "BASE_DIR = \"/gpfs/commons/home/jameslee/HGSOC\"\n",
    "CELLRANGER_DIR = os.path.join(BASE_DIR, \"output/cellranger\")\n",
    "METADATA_PATH = os.path.join(BASE_DIR, \"metadata/GSE184880_metadata.csv\")\n",
    "OUTPUT_DIR = os.path.join(BASE_DIR, \"output/scanpy\")\n",
    "\n",
    "# Create output directory\n",
    "os.makedirs(OUTPUT_DIR, exist_ok=True)\n",
    "\n",
    "# Load metadata\n",
    "metadata = pd.read_csv(METADATA_PATH)\n",
    "print(f\"Loaded metadata with {len(metadata)} entries\")\n",
    "\n",
    "# Group SRR runs by GSM sample name\n",
    "sample_groups = defaultdict(list)\n",
    "for _, row in metadata.iterrows():\n",
    "    sample_groups[row['Sample Name']].append(row['Run'])\n",
    "\n",
    "print(f\"Found {len(sample_groups)} unique samples\")"
   ]
  },
  {
   "cell_type": "markdown",
   "metadata": {},
   "source": [
    "## Process Individual Samples\n",
    "\n",
    "For each sample, we will:\n",
    "1. Load the 10X Genomics data\n",
    "2. Add metadata\n",
    "3. Calculate QC metrics\n",
    "4. Filter cells\n",
    "5. Normalize and process the data\n",
    "6. Perform dimensionality reduction and clustering"
   ]
  },
  {
   "cell_type": "code",
   "execution_count": null,
   "metadata": {},
   "outputs": [],
   "source": [
    "# Process each sample\n",
    "all_samples = []\n",
    "sample_adatas = {}\n",
    "\n",
    "for sample_name, run_ids in sample_groups.items():\n",
    "    print(f\"\\nProcessing {sample_name} with {len(run_ids)} sequencing runs\")\n",
    "    \n",
    "    # List to store run-level anndata objects\n",
    "    run_adatas = []\n",
    "    \n",
    "    # Process each run\n",
    "    for run_id in run_ids:\n",
    "        h5_path = os.path.join(CELLRANGER_DIR, run_id, \"outs\", \"filtered_feature_bc_matrix.h5\")\n",
    "        \n",
    "        if not os.path.exists(h5_path):\n",
    "            print(f\"Warning: CellRanger output for {run_id} not found at {h5_path}\")\n",
    "            continue\n",
    "        \n",
    "        # Load data\n",
    "        print(f\"Loading {run_id}...\")\n",
    "        adata = sc.read_10x_h5(h5_path)\n",
    "        \n",
    "        # Add metadata\n",
    "        run_meta = metadata[metadata['Run'] == run_id].iloc[0]\n",
    "        adata.obs['run_id'] = run_id\n",
    "        adata.obs['sample_name'] = sample_name\n",
    "        adata.obs['age'] = run_meta['age']\n",
    "        adata.obs['pathology'] = run_meta['pathology'] \n",
    "        adata.obs['tissue_type'] = run_meta['tissue_type']\n",
    "        adata.obs['tumor_stage'] = run_meta['tumor_stage']\n",
    "        \n",
    "        # Add unique barcode suffix to avoid conflicts when merging\n",
    "        adata.obs_names = [f\"{bc}_{run_id}\" for bc in adata.obs_names]\n",
    "        \n",
    "        # Calculate QC metrics\n",
    "        sc.pp.calculate_qc_metrics(adata, inplace=True)\n",
    "        \n",
    "        # Annotate mitochondrial genes\n",
    "        adata.var['mt'] = adata.var_names.str.startswith('MT-')\n",
    "        sc.pp.calculate_qc_metrics(adata, qc_vars=['mt'], inplace=True)\n",
    "        \n",
    "        run_adatas.append(adata)\n",
    "    \n",
    "    if not run_adatas:\n",
    "        print(f\"No data found for {sample_name}, skipping\")\n",
    "        continue"
   ]
  },
  {
   "cell_type": "markdown",
   "metadata": {},
   "source": [
    "## Merge Runs and Process Sample Data"
   ]
  },
  {
   "cell_type": "code",
   "execution_count": null,
   "metadata": {},
   "outputs": [],
   "source": [
    "    # Merge all runs for this sample if there are multiple runs\n",
    "    if len(run_adatas) > 1:\n",
    "        adata_combined = run_adatas[0].concatenate(run_adatas[1:], batch_key='sequencing_run')\n",
    "        print(f\"Merged {len(run_adatas)} runs for {sample_name}, with {adata_combined.n_obs} cells\")\n",
    "    else:\n",
    "        adata_combined = run_adatas[0]\n",
    "        adata_combined.obs['sequencing_run'] = '0'\n",
    "        print(f\"Single run for {sample_name} with {adata_combined.n_obs} cells\")\n",
    "    \n",
    "    # QC filtering\n",
    "    sc.pl.violin(adata_combined, ['n_genes_by_counts', 'total_counts', 'pct_counts_mt'], \n",
    "                jitter=0.4, multi_panel=True, save=f\"_{sample_name}_qc_metrics.pdf\")\n",
    "    \n",
    "    # Filter cells based on QC metrics\n",
    "    adata_filtered = adata_combined[adata_combined.obs.n_genes_by_counts > 200, :]\n",
    "    adata_filtered = adata_filtered[adata_filtered.obs.pct_counts_mt < 40, :]\n",
    "    \n",
    "    print(f\"After filtering: {adata_filtered.n_obs} cells, {adata_filtered.n_vars} genes\")"
   ]
  },
  {
   "cell_type": "markdown",
   "metadata": {},
   "source": [
    "## Normalize and Process Data"
   ]
  },
  {
   "cell_type": "code",
   "execution_count": null,
   "metadata": {},
   "outputs": [],
   "source": [
    "    # Normalize data\n",
    "    sc.pp.normalize_total(adata_filtered, target_sum=1e4)\n",
    "    sc.pp.log1p(adata_filtered)\n",
    "    \n",
    "    # Identify highly variable genes\n",
    "    sc.pp.highly_variable_genes(adata_filtered, min_mean=0.0125, max_mean=3, min_disp=0.5)\n",
    "    \n",
    "    # Plot variable genes\n",
    "    sc.pl.highly_variable_genes(adata_filtered, save=f\"_{sample_name}_hvg.pdf\")\n",
    "    \n",
    "    # Scale data\n",
    "    sc.pp.scale(adata_filtered, max_value=10)\n",
    "    \n",
    "    # Run PCA\n",
    "    sc.tl.pca(adata_filtered, svd_solver='arpack')\n",
    "    sc.pl.pca_variance_ratio(adata_filtered, n_pcs=50, save=f\"_{sample_name}_pca_variance.pdf\")"
   ]
  },
  {
   "cell_type": "markdown",
   "metadata": {},
   "source": [
    "## Clustering and UMAP Visualization"
   ]
  },
  {
   "cell_type": "code",
   "execution_count": null,
   "metadata": {},
   "outputs": [],
   "source": [
    "    # Compute neighborhood graph and UMAP\n",
    "    sc.pp.neighbors(adata_filtered, n_neighbors=10, n_pcs=20)\n",
    "    sc.tl.umap(adata_filtered)\n",
    "    \n",
    "    # Clustering\n",
    "    sc.tl.leiden(adata_filtered, resolution=0.5)\n",
    "    \n",
    "    # Plot UMAP\n",
    "    sc.pl.umap(adata_filtered, color=['leiden', 'sequencing_run', 'tissue_type', 'tumor_stage'], \n",
    "              wspace=0.4, save=f\"_{sample_name}_umap.pdf\")"
   ]
  },
  {
   "cell_type": "markdown",
   "metadata": {},
   "source": [
    "## Cell Type Marker Analysis"
   ]
  },
  {
   "cell_type": "code",
   "execution_count": null,
   "metadata": {},
   "outputs": [],
   "source": [
    "    # Known cell type markers\n",
    "    markers = {\n",
    "        'Epithelial': ['EPCAM', 'KRT8', 'KRT18'],\n",
    "        'Immune': ['PTPRC', 'CD3E', 'CD4', 'CD8A', 'CD14', 'CD68'],\n",
    "        'Fibroblast': ['COL1A1', 'DCN', 'LUM']\n",
    "    }\n",
    "    \n",
    "    # Plot markers if they exist in the dataset\n",
    "    for cell_type, marker_genes in markers.items():\n",
    "        existing_markers = [m for m in marker_genes if m in adata_filtered.var_names]\n",
    "        if existing_markers:\n",
    "            sc.pl.umap(adata_filtered, color=existing_markers, \n",
    "                      save=f\"_{sample_name}_{cell_type}_markers.pdf\")\n",
    "    \n",
    "    # Find marker genes for clusters\n",
    "    sc.tl.rank_genes_groups(adata_filtered, 'leiden', method='wilcoxon')\n",
    "    sc.pl.rank_genes_groups(adata_filtered, n_genes=25, sharey=False, \n",
    "                           save=f\"_{sample_name}_markers.pdf\")\n",
    "    \n",
    "    # Save processed data\n",
    "    adata_filtered.write(os.path.join(OUTPUT_DIR, f\"{sample_name}_processed.h5ad\"))\n",
    "    \n",
    "    # Store for integration\n",
    "    sample_adatas[sample_name] = adata_filtered\n",
    "    all_samples.append(adata_filtered)"
   ]
  },
  {
   "cell_type": "markdown",
   "metadata": {},
   "source": [
    "## Sample Integration\n",
    "\n",
    "If we have multiple samples, we'll perform integration using three different methods:\n",
    "1. Basic concatenation\n",
    "2. Harmony integration\n",
    "3. BBKNN integration"
   ]
  },
  {
   "cell_type": "code",
   "execution_count": null,
   "metadata": {},
   "outputs": [],
   "source": [
    "# Integration if we have multiple samples\n",
    "if len(all_samples) > 1:\n",
    "    print(\"\\nIntegrating all samples...\")\n",
    "    \n",
    "    # List of AnnData objects\n",
    "    adata_list = list(sample_adatas.values())\n",
    "    \n",
    "    # Method 1: Basic concatenation for comparison\n",
    "    adata_concat = adata_list[0].concatenate(\n",
    "        adata_list[1:], batch_key='sample_name', index_unique='-'\n",
    "    )\n",
    "    \n",
    "    # PCA and UMAP on concatenated data\n",
    "    sc.pp.neighbors(adata_concat)\n",
    "    sc.tl.umap(adata_concat)\n",
    "    sc.tl.leiden(adata_concat, resolution=0.5)\n",
    "    \n",
    "    # Plot to check batch effects\n",
    "    sc.pl.umap(adata_concat, color=['leiden', 'sample_name', 'tissue_type', 'tumor_stage'], \n",
    "              wspace=0.4, save=\"_concat_umap.pdf\")"
   ]
  },
  {
   "cell_type": "markdown",
   "metadata": {},
   "source": [
    "### Harmony Integration"
   ]
  },
  {
   "cell_type": "code",
   "execution_count": null,
   "metadata": {},
   "outputs": [],
   "source": [
    "    # Method 2: Integration with Harmony (if installed)\n",
    "    try:\n",
    "        # Try to use Harmony for integration\n",
    "        sc.external.pp.harmony_integrate(adata_concat, 'sample_name')\n",
    "        sc.pp.neighbors(adata_concat, use_rep='X_pca_harmony')\n",
    "        sc.tl.umap(adata_concat)\n",
    "        sc.tl.leiden(adata_concat, resolution=0.5)\n",
    "        \n",
    "        # Plot integrated results\n",
    "        sc.pl.umap(adata_concat, color=['leiden', 'sample_name', 'tissue_type', 'tumor_stage'], \n",
    "                  wspace=0.4, save=\"_harmony_umap.pdf\")\n",
    "        \n",
    "        # Split by sample to check integration\n",
    "        sc.pl.umap(adata_concat, color='leiden', split_by='sample_name', \n",
    "                  save=\"_harmony_split_umap.pdf\")\n",
    "        \n",
    "        print(\"Harmony integration complete\")\n",
    "    except ImportError:\n",
    "        print(\"Harmony not available, using basic concatenation only\")"
   ]
  },
  {
   "cell_type": "markdown",
   "metadata": {},
   "source": [
    "### BBKNN Integration"
   ]
  },
  {
   "cell_type": "code",
   "execution_count": null,
   "metadata": {},
   "outputs": [],
   "source": [
    "    # Method 3: Alternative integration using BBKNN (if available)\n",
    "    try:\n",
    "        import bbknn\n",
    "        # Reset the original concatenated object\n",
    "        adata_bbknn = adata_list[0].concatenate(\n",
    "            adata_list[1:], batch_key='sample_name', index_unique='-'\n",
    "        )\n",
    "        \n",
    "        # Rerun PCA\n",
    "        sc.tl.pca(adata_bbknn)\n",
    "        \n",
    "        # Run BBKNN\n",
    "        bbknn.bbknn(adata_bbknn, batch_key='sample_name')\n",
    "        sc.tl.umap(adata_bbknn)\n",
    "        sc.tl.leiden(adata_bbknn, resolution=0.5)\n",
    "        \n",
    "        # Plot BBKNN integration\n",
    "        sc.pl.umap(adata_bbknn, color=['leiden', 'sample_name', 'tissue_type', 'tumor_stage'], \n",
    "                  wspace=0.4, save=\"_bbknn_umap.pdf\")\n",
    "        \n",
    "        # Save integrated object\n",
    "        adata_bbknn.write(os.path.join(OUTPUT_DIR, \"integrated_bbknn.h5ad\"))\n",
    "        print(\"BBKNN integration complete\")\n",
    "    except ImportError:\n",
    "        print(\"BBKNN not available, skipping this integration method\")"
   ]
  },
  {
   "cell_type": "markdown",
   "metadata": {},
   "source": [
    "## Save Final Results"
   ]
  },
  {
   "cell_type": "code",
   "execution_count": null,
   "metadata": {},
   "outputs": [],
   "source": [
    "    # Save integrated dataset\n",
    "    adata_concat.write(os.path.join(OUTPUT_DIR, \"integrated_dataset.h5ad\"))\n",
    "    \n",
    "    # Find marker genes for integrated clusters\n",
    "    sc.tl.rank_genes_groups(adata_concat, 'leiden', method='wilcoxon')\n",
    "    \n",
    "    # Save markers to CSV\n",
    "    markers_df = sc.get.rank_genes_groups_df(adata_concat, group=None)\n",
    "    markers_df.to_csv(os.path.join(OUTPUT_DIR, \"integrated_markers.csv\"))\n",
    "    \n",
    "    print(\"Integration complete\")\n",
    "\n",
    "print(f\"Analysis complete. Results saved to {OUTPUT_DIR}\")"
   ]
  }
 ],
 "metadata": {
  "kernelspec": {
   "display_name": "scanpy_env",
   "language": "python",
   "name": "python3"
  },
  "language_info": {
   "codemirror_mode": {
    "name": "ipython",
    "version": 3
   },
   "file_extension": ".py",
   "mimetype": "text/x-python",
   "name": "python",
   "nbconvert_exporter": "python",
   "pygments_lexer": "ipython3",
   "version": "3.10.17"
  }
 },
 "nbformat": 4,
 "nbformat_minor": 4
}
